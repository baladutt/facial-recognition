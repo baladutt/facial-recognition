{
 "cells": [
  {
   "cell_type": "markdown",
   "metadata": {},
   "source": [
    "# Read Image data into memory"
   ]
  },
  {
   "cell_type": "code",
   "execution_count": 1,
   "metadata": {},
   "outputs": [
    {
     "name": "stdout",
     "output_type": "stream",
     "text": [
      "Total File name collection time = 2.9250519275665283 seconds\n",
      "Files collected :  6\n"
     ]
    }
   ],
   "source": [
    "import time\n",
    "import getpass\n",
    "import warnings\n",
    "warnings.filterwarnings('ignore')\n",
    "\n",
    "username = getpass.getuser()\n",
    "start_time = time.time()\n",
    "#Where is the data?\n",
    "if username == \"bdutt\":\n",
    "    baseDir=\"/Users/bdutt/Documents/workspace-whitespace/face/face/data/lfw\"\n",
    "elif username ==\"cgarg\":\n",
    "    baseDir=\"/Users/cgarg/Documents/charu/intuit/code/face/data/lfw\"\n",
    "flow = \"main\"\n",
    "debug = False\n",
    "\n",
    "%run \"Load Data.ipynb\"\n",
    "\n",
    "filenames = []\n",
    "labels = []\n",
    "\n",
    "def collectFileNamesAndLabels(filename):\n",
    "    filenames.append(filename)\n",
    "    result = filename.split(\"/\") \n",
    "    labels.append(result[len(result)-2]) #Get the label name from filename\n",
    "    \n",
    "doForEachFile(collectFileNamesAndLabels,baseDir, 10)\n",
    "print(\"Total File name collection time = %s seconds\" % (time.time() - start_time))\n",
    "print (\"Files collected : \",len(filenames))"
   ]
  },
  {
   "cell_type": "code",
   "execution_count": 2,
   "metadata": {},
   "outputs": [
    {
     "name": "stdout",
     "output_type": "stream",
     "text": [
      "Images data collected :  6\n",
      "Total data collection time = 0.05321693420410156 seconds\n"
     ]
    }
   ],
   "source": [
    "start_time = time.time()\n",
    "imagesList = []\n",
    "doForEachFileNames(readImage, filenames, imagesList)\n",
    "print (\"Images data collected : \",len(imagesList))\n",
    "print(\"Total data collection time = %s seconds\" % (time.time() - start_time))"
   ]
  },
  {
   "cell_type": "code",
   "execution_count": 3,
   "metadata": {
    "scrolled": true
   },
   "outputs": [],
   "source": [
    "#%run \"TransferLearningWithCNN.ipynb\""
   ]
  },
  {
   "cell_type": "markdown",
   "metadata": {},
   "source": [
    "# Generic Multi threading code\n",
    "\n",
    "Used later"
   ]
  },
  {
   "cell_type": "code",
   "execution_count": 4,
   "metadata": {},
   "outputs": [],
   "source": [
    "import threading\n",
    "import sys\n",
    "import traceback\n",
    "import time\n",
    "\n",
    "class myThread (threading.Thread):\n",
    "    def __init__(self, threadName, index, worker):\n",
    "        threading.Thread.__init__(self)\n",
    "        self.threadName = threadName\n",
    "        self.index = index\n",
    "        self.worker = worker\n",
    "    def run(self):\n",
    "        print('^',self.threadName, ', ', end='')\n",
    "        try:\n",
    "            self.worker(self.threadName, self.index)\n",
    "        except:\n",
    "            e = sys.exc_info()[0]\n",
    "            print(\"Exception in thread: \",self.threadName,\", \", e)\n",
    "            traceback.print_exc()\n",
    "        print('V',self.threadName, end='')\n",
    "        \n",
    "\n",
    "def runThreads(nThreads, worker):\n",
    "    threads = []\n",
    "    for i in range(nThreads):\n",
    "        try:\n",
    "            t = myThread(\"Thread-\"+str(i), i , worker)\n",
    "            threads.append(t)\n",
    "            t.start()\n",
    "        except:\n",
    "            e = sys.exc_info()[0]\n",
    "            print(\"Error: unable to start thread: \", e)\n",
    "            traceback.print_exc()\n",
    "\n",
    "    time.sleep(1)\n",
    "\n",
    "    for t in threads:\n",
    "        t.join()"
   ]
  },
  {
   "cell_type": "code",
   "execution_count": 5,
   "metadata": {},
   "outputs": [
    {
     "name": "stdout",
     "output_type": "stream",
     "text": [
      "^ Thread-0 , ^^ Thread-1 ,  Thread-2 , ^^  Thread-3^Thread-4  , Thread-5V   , Thread-0^, V Thread-1 Thread-6 , V Thread-6V ^ Thread-2Thread-7 , V Thread-7^ Thread-8 , V Thread-8^ Thread-9 , V Thread-9V Thread-4V Thread-5V Thread-3X shape (6, 62500)\n",
      "label count 6\n",
      "Total dataframe creation time = 7.2782368659973145 seconds\n"
     ]
    }
   ],
   "source": [
    "start_time = time.time()\n",
    "\n",
    "import pandas as pd\n",
    "import numpy as np\n",
    "import matplotlib.pyplot as plt\n",
    "import matplotlib.image as mpimg\n",
    "\n",
    "\n",
    "def rgb2gray(rgb):\n",
    "    return np.dot(rgb[...,:3], [0.2989, 0.5870, 0.1140])\n",
    "\n",
    "\n",
    "Y = pd.DataFrame(labels, columns = ['name'])\n",
    "sizeOfYLabel = len(Y)\n",
    "oneDImageList = []\n",
    "showOneImage = False\n",
    "\n",
    "imageListLock = threading.Lock()\n",
    "\n",
    "def flattenImage(image, imageList):\n",
    "    # Convert RGB to single number\n",
    "    global showOneImage\n",
    "    if showOneImage:\n",
    "        plt.imshow(image, cmap=\"Greys\")\n",
    "        plt.show()\n",
    "    gray = rgb2gray(image)\n",
    "    if showOneImage:\n",
    "        plt.imshow(gray, cmap=\"Greys\")\n",
    "        plt.show()\n",
    "        showOneImage = False\n",
    "    imageList.append(gray.flatten())\n",
    "\n",
    "nThreads = 10\n",
    "splitImagesList = np.array_split(imagesList, nThreads)\n",
    "splitLabelsList = np.array_split(labels, nThreads)\n",
    "labels = []\n",
    "\n",
    "def imageFlatteningWorker(threadName, index):\n",
    "    global splitImagesList\n",
    "    global imageListLock\n",
    "    imageList = []\n",
    "    for image in splitImagesList[index]:\n",
    "        flattenImage(image, imageList)\n",
    "    imageListLock.acquire()\n",
    "    global oneDImageList\n",
    "    oneDImageList.extend(imageList)\n",
    "    global labels\n",
    "    labels.extend(splitLabelsList[index])\n",
    "    imageListLock.release()\n",
    "\n",
    "runThreads(nThreads, imageFlatteningWorker)\n",
    "    \n",
    "del imagesList\n",
    "\n",
    "X = pd.DataFrame(oneDImageList)\n",
    "del oneDImageList\n",
    "print(\"X shape\", X.shape)\n",
    "print(\"label count\", len(labels))\n",
    "print(\"Total dataframe creation time = %s seconds\" % (time.time() - start_time))"
   ]
  },
  {
   "cell_type": "code",
   "execution_count": 6,
   "metadata": {},
   "outputs": [],
   "source": [
    "#Y['name'].value_counts()"
   ]
  },
  {
   "cell_type": "code",
   "execution_count": 7,
   "metadata": {},
   "outputs": [
    {
     "name": "stdout",
     "output_type": "stream",
     "text": [
      "^ Thread-0 , ^ Thread-1 , ^ Thread-2 , ^^ ^ Thread-5 ,  Thread-4 , ^ Thread-6 , V Thread-6Thread-3 , ^ Thread-7 , V^  Thread-8 , VThread-7 Thread-8^ Thread-9 , V Thread-9.-+V Thread-0.-+V Thread-1.-+V Thread-2.-+V Thread-3.-+V Thread-4.-+V Thread-5(126, 62500)\n",
      "(126, 1)\n",
      "Total equal sampling time = 1.1305499076843262 seconds\n"
     ]
    }
   ],
   "source": [
    "start_time = time.time()\n",
    "maxFrequency = 21\n",
    "\n",
    "# We upsample/downsample to have equal quantity of all classes\n",
    "\n",
    "#X_sample = pd.DataFrame(columns = X.columns)\n",
    "#Y_sample = pd.DataFrame(columns = Y.columns)\n",
    "X_sampleList = []\n",
    "Y_sampleList = []\n",
    "\n",
    "XY_sampleLock = threading.Lock()\n",
    "\n",
    "def equalSampleLabel(label):\n",
    "    global X_sampleList\n",
    "    global Y_sampleList\n",
    "    global XY_sampleLock\n",
    "    dfa = X[Y['name']== label]\n",
    "    dfasample = dfa.sample(n=maxFrequency,replace=True)\n",
    "    dfb = Y[Y['name']== label]\n",
    "    dfbsample = dfb.sample(n=maxFrequency,replace=True)\n",
    "    print('.', end='')\n",
    "    XY_sampleLock.acquire()\n",
    "    print('-', end='') \n",
    "    X_sampleList.append(dfasample)\n",
    "    Y_sampleList.append(dfbsample)\n",
    "    XY_sampleLock.release()\n",
    "    print('+', end='')\n",
    "\n",
    "\n",
    "\n",
    "labels = Y['name'].unique()\n",
    "\n",
    "nThreads = 10\n",
    "labelsArray = np.array_split(labels, nThreads)\n",
    "\n",
    "def worker(threadName, index):\n",
    "    for label in labelsArray[index]:\n",
    "        #print(threadName, label)\n",
    "        equalSampleLabel(label)\n",
    "\n",
    "runThreads(nThreads, worker)\n",
    "\n",
    "X_sample = pd.concat(X_sampleList)\n",
    "Y_sample = pd.concat(Y_sampleList)\n",
    "print(X_sample.shape)\n",
    "print(Y_sample.shape)\n",
    "X = X_sample\n",
    "Y = Y_sample\n",
    "# print(X_sample)\n",
    "print(\"Total equal sampling time = %s seconds\" % (time.time() - start_time))"
   ]
  },
  {
   "cell_type": "code",
   "execution_count": 8,
   "metadata": {
    "scrolled": true
   },
   "outputs": [
    {
     "name": "stdout",
     "output_type": "stream",
     "text": [
      "Total DNN time = 0.0001957416534423828 seconds\n"
     ]
    }
   ],
   "source": [
    "start_time = time.time()\n",
    "sizeOfX = X_sample.shape[1]\n",
    "#%run \"DNN.ipynb\"\n",
    "\n",
    "print(\"Total DNN time = %s seconds\" % (time.time() - start_time))"
   ]
  },
  {
   "cell_type": "code",
   "execution_count": 9,
   "metadata": {},
   "outputs": [
    {
     "name": "stdout",
     "output_type": "stream",
     "text": [
      "(126, 62500)\n"
     ]
    }
   ],
   "source": [
    "print(X_sample.shape)\n"
   ]
  },
  {
   "cell_type": "code",
   "execution_count": 10,
   "metadata": {},
   "outputs": [],
   "source": [
    "# print(Y)\n",
    "# enc.get_feature_names(['name'])\n",
    "# print(enc.get_feature_names(['name']).shape)"
   ]
  },
  {
   "cell_type": "code",
   "execution_count": 11,
   "metadata": {
    "scrolled": true
   },
   "outputs": [
    {
     "ename": "NameError",
     "evalue": "name 'model' is not defined",
     "output_type": "error",
     "traceback": [
      "\u001b[0;31m---------------------------------------------------------------------------\u001b[0m",
      "\u001b[0;31mNameError\u001b[0m                                 Traceback (most recent call last)",
      "\u001b[0;32m<ipython-input-11-ae708cfef6dc>\u001b[0m in \u001b[0;36m<module>\u001b[0;34m\u001b[0m\n\u001b[1;32m      4\u001b[0m \u001b[0mYpred\u001b[0m \u001b[0;34m=\u001b[0m \u001b[0mpd\u001b[0m\u001b[0;34m.\u001b[0m\u001b[0mDataFrame\u001b[0m\u001b[0;34m(\u001b[0m \u001b[0mcolumns\u001b[0m \u001b[0;34m=\u001b[0m \u001b[0;34m[\u001b[0m\u001b[0;34m'sampleId'\u001b[0m\u001b[0;34m,\u001b[0m \u001b[0;34m\"classAsIndex\"\u001b[0m\u001b[0;34m,\u001b[0m \u001b[0;34m\"classAsString\"\u001b[0m\u001b[0;34m,\u001b[0m \u001b[0;34m\"actualClass\"\u001b[0m\u001b[0;34m]\u001b[0m\u001b[0;34m)\u001b[0m\u001b[0;34m\u001b[0m\u001b[0;34m\u001b[0m\u001b[0m\n\u001b[1;32m      5\u001b[0m \u001b[0;32mfor\u001b[0m \u001b[0mi\u001b[0m \u001b[0;32min\u001b[0m \u001b[0mrange\u001b[0m\u001b[0;34m(\u001b[0m\u001b[0;36m300\u001b[0m\u001b[0;34m)\u001b[0m\u001b[0;34m:\u001b[0m\u001b[0;34m\u001b[0m\u001b[0;34m\u001b[0m\u001b[0m\n\u001b[0;32m----> 6\u001b[0;31m     \u001b[0mprediction\u001b[0m \u001b[0;34m=\u001b[0m \u001b[0mmodel\u001b[0m\u001b[0;34m.\u001b[0m\u001b[0mpredict\u001b[0m\u001b[0;34m(\u001b[0m\u001b[0mX_sample\u001b[0m\u001b[0;34m.\u001b[0m\u001b[0miloc\u001b[0m\u001b[0;34m[\u001b[0m\u001b[0mi\u001b[0m\u001b[0;34m:\u001b[0m\u001b[0mi\u001b[0m\u001b[0;34m+\u001b[0m\u001b[0;36m1\u001b[0m\u001b[0;34m,\u001b[0m\u001b[0;34m:\u001b[0m\u001b[0;34m]\u001b[0m\u001b[0;34m,\u001b[0m\u001b[0mverbose\u001b[0m\u001b[0;34m=\u001b[0m\u001b[0;36m0\u001b[0m\u001b[0;34m)\u001b[0m\u001b[0;34m\u001b[0m\u001b[0;34m\u001b[0m\u001b[0m\n\u001b[0m\u001b[1;32m      7\u001b[0m     \u001b[0mclass_labels\u001b[0m \u001b[0;34m=\u001b[0m \u001b[0mnp\u001b[0m\u001b[0;34m.\u001b[0m\u001b[0margmax\u001b[0m\u001b[0;34m(\u001b[0m\u001b[0mprediction\u001b[0m\u001b[0;34m[\u001b[0m\u001b[0;36m0\u001b[0m\u001b[0;34m]\u001b[0m\u001b[0;34m,\u001b[0m \u001b[0maxis\u001b[0m\u001b[0;34m=\u001b[0m\u001b[0;36m0\u001b[0m\u001b[0;34m)\u001b[0m\u001b[0;34m\u001b[0m\u001b[0;34m\u001b[0m\u001b[0m\n\u001b[1;32m      8\u001b[0m     \u001b[0mYpred\u001b[0m\u001b[0;34m.\u001b[0m\u001b[0mat\u001b[0m\u001b[0;34m[\u001b[0m\u001b[0mi\u001b[0m\u001b[0;34m,\u001b[0m \u001b[0;34m'sampleId'\u001b[0m\u001b[0;34m]\u001b[0m  \u001b[0;34m=\u001b[0m \u001b[0mi\u001b[0m\u001b[0;34m\u001b[0m\u001b[0;34m\u001b[0m\u001b[0m\n",
      "\u001b[0;31mNameError\u001b[0m: name 'model' is not defined"
     ]
    }
   ],
   "source": [
    "import numpy as np\n",
    "import tensorflow as tf\n",
    "\n",
    "Ypred = pd.DataFrame( columns = ['sampleId', \"classAsIndex\", \"classAsString\", \"actualClass\"])\n",
    "for i in range(300):\n",
    "    prediction = model.predict(X_sample.iloc[i:i+1,:],verbose=0)\n",
    "    class_labels = np.argmax(prediction[0], axis=0)\n",
    "    Ypred.at[i, 'sampleId']  = i\n",
    "    Ypred.at[i, 'classAsIndex']  = class_labels\n",
    "    Ypred.at[i, 'classAsString']  = enc.get_feature_names(['name'])[class_labels]\n",
    "    Ypred.at[i, 'actualClass']  = Y_sample.iloc[i].values\n",
    "    #print(class_labels, enc.get_feature_names(['name'])[class_labels],\" Names of class :: \", Y_sample.iloc[i].values)\n",
    "\n",
    "from IPython.display import display, HTML\n",
    "display(HTML(Ypred.to_html()))"
   ]
  },
  {
   "cell_type": "code",
   "execution_count": 12,
   "metadata": {},
   "outputs": [
    {
     "name": "stdout",
     "output_type": "stream",
     "text": [
      "{0: 'German_Khan', 1: 'Stefano_Gabbana', 2: 'Dragan_Covic', 3: 'Jeff_Hornacek', 4: 'Sureyya_Ayhan', 5: 'Deb_Santos'}\n"
     ]
    }
   ],
   "source": [
    "class_mapping = { i : labels[i] for i in range(0, len(labels) ) }\n",
    "print(class_mapping)"
   ]
  },
  {
   "cell_type": "code",
   "execution_count": 55,
   "metadata": {},
   "outputs": [
    {
     "name": "stdout",
     "output_type": "stream",
     "text": [
      "(126, 62500)\n",
      "(126, 1)\n",
      "(1, 126)\n"
     ]
    }
   ],
   "source": [
    "from PIL import Image\n",
    "import pandas as pd\n",
    "\n",
    "print(X_sample.shape)\n",
    "sample_dict = {}\n",
    "\n",
    "X_transfer_learning = pd.DataFrame()\n",
    "\n",
    "for ind in X_sample.index: \n",
    "    X_sample_array = X_sample.iloc[ind].as_matrix()\n",
    "    arr = X_sample_array.reshape(250,250,1)\n",
    "    img = tf.keras.preprocessing.image.array_to_img(arr)\n",
    "    img.resize(size=(299,299), resample=Image.BICUBIC)\n",
    "    array = tf.keras.preprocessing.image.img_to_array(img)\n",
    "    sample_dict[0] = array\n",
    "    X_transfer_learning = X_transfer_learning.append(sample_dict,ignore_index=True)\n",
    "\n",
    "print(X_transfer_learning.shape)\n",
    "\n",
    "# Swap rows and columns of dataframe\n",
    "X_transfer_learning = X_transfer_learning.transpose()\n",
    "print(X_transfer_learning.shape)"
   ]
  },
  {
   "cell_type": "code",
   "execution_count": 58,
   "metadata": {},
   "outputs": [
    {
     "name": "stdout",
     "output_type": "stream",
     "text": [
      "(126, 62500)\n",
      "(1, 299, 299, 3)\n",
      "Shape of image ::  (1,)\n"
     ]
    },
    {
     "ename": "AttributeError",
     "evalue": "'Series' object has no attribute '__array_interface__'",
     "output_type": "error",
     "traceback": [
      "\u001b[0;31m---------------------------------------------------------------------------\u001b[0m",
      "\u001b[0;31mAttributeError\u001b[0m                            Traceback (most recent call last)",
      "\u001b[0;32m~/Documents/charu/intuit/code/face/TransferLearning-New.ipynb\u001b[0m in \u001b[0;36m<module>\u001b[0;34m\u001b[0m\n\u001b[0;32m----> 1\u001b[0;31m \u001b[0mX_valid\u001b[0m\u001b[0;34m,\u001b[0m \u001b[0my_valid\u001b[0m \u001b[0;34m=\u001b[0m \u001b[0mcreate_batch\u001b[0m\u001b[0;34m(\u001b[0m\u001b[0mX_transfer_learning\u001b[0m\u001b[0;34m,\u001b[0m \u001b[0mY_sample\u001b[0m\u001b[0;34m,\u001b[0m \u001b[0;36m0\u001b[0m\u001b[0;34m,\u001b[0m \u001b[0mlen\u001b[0m\u001b[0;34m(\u001b[0m\u001b[0mX_transfer_learning\u001b[0m\u001b[0;34m)\u001b[0m\u001b[0;34m)\u001b[0m\u001b[0;34m\u001b[0m\u001b[0;34m\u001b[0m\u001b[0m\n\u001b[0m\u001b[1;32m      2\u001b[0m \u001b[0mprint\u001b[0m\u001b[0;34m(\u001b[0m\u001b[0mX_valid\u001b[0m\u001b[0;34m.\u001b[0m\u001b[0mshape\u001b[0m\u001b[0;34m,\u001b[0m \u001b[0my_valid\u001b[0m\u001b[0;34m.\u001b[0m\u001b[0mshape\u001b[0m\u001b[0;34m)\u001b[0m\u001b[0;34m\u001b[0m\u001b[0;34m\u001b[0m\u001b[0m\n",
      "\u001b[0;32m~/Documents/charu/intuit/code/face/TransferLearning-New.ipynb\u001b[0m in \u001b[0;36mcreate_batch\u001b[0;34m(X, y, start_index, batch_size)\u001b[0m\n\u001b[1;32m      8\u001b[0m \u001b[0;34m\u001b[0m\u001b[0m\n\u001b[1;32m      9\u001b[0m     \u001b[0;32mfor\u001b[0m \u001b[0mindex\u001b[0m \u001b[0;32min\u001b[0m \u001b[0mrange\u001b[0m\u001b[0;34m(\u001b[0m\u001b[0mstart_index\u001b[0m\u001b[0;34m,\u001b[0m \u001b[0mstop_index\u001b[0m\u001b[0;34m)\u001b[0m\u001b[0;34m:\u001b[0m\u001b[0;34m\u001b[0m\u001b[0;34m\u001b[0m\u001b[0m\n\u001b[0;32m---> 10\u001b[0;31m         \u001b[0mprepared_images\u001b[0m\u001b[0;34m.\u001b[0m\u001b[0mappend\u001b[0m\u001b[0;34m(\u001b[0m\u001b[0mprepare_image\u001b[0m\u001b[0;34m(\u001b[0m\u001b[0mX\u001b[0m\u001b[0;34m[\u001b[0m\u001b[0mindex\u001b[0m\u001b[0;34m]\u001b[0m\u001b[0;34m)\u001b[0m\u001b[0;34m)\u001b[0m\u001b[0;34m\u001b[0m\u001b[0;34m\u001b[0m\u001b[0m\n\u001b[0m\u001b[1;32m     11\u001b[0m         \u001b[0mlabels\u001b[0m\u001b[0;34m.\u001b[0m\u001b[0mappend\u001b[0m\u001b[0;34m(\u001b[0m\u001b[0my\u001b[0m\u001b[0;34m[\u001b[0m\u001b[0mindex\u001b[0m\u001b[0;34m]\u001b[0m\u001b[0;34m)\u001b[0m\u001b[0;34m\u001b[0m\u001b[0;34m\u001b[0m\u001b[0m\n\u001b[1;32m     12\u001b[0m \u001b[0;34m\u001b[0m\u001b[0m\n",
      "\u001b[0;32m~/Documents/charu/intuit/code/face/TransferLearning-New.ipynb\u001b[0m in \u001b[0;36mprepare_image\u001b[0;34m(image, target_height, target_width)\u001b[0m\n\u001b[1;32m      4\u001b[0m \u001b[0;32mdef\u001b[0m \u001b[0mprepare_image\u001b[0m\u001b[0;34m(\u001b[0m\u001b[0mimage\u001b[0m\u001b[0;34m,\u001b[0m \u001b[0mtarget_height\u001b[0m\u001b[0;34m=\u001b[0m\u001b[0;36m299\u001b[0m\u001b[0;34m,\u001b[0m \u001b[0mtarget_width\u001b[0m\u001b[0;34m=\u001b[0m\u001b[0;36m299\u001b[0m\u001b[0;34m)\u001b[0m\u001b[0;34m:\u001b[0m\u001b[0;34m\u001b[0m\u001b[0;34m\u001b[0m\u001b[0m\n\u001b[1;32m      5\u001b[0m     \u001b[0mprint\u001b[0m\u001b[0;34m(\u001b[0m\u001b[0;34m\"Shape of image :: \"\u001b[0m \u001b[0;34m,\u001b[0m \u001b[0mimage\u001b[0m\u001b[0;34m.\u001b[0m\u001b[0mshape\u001b[0m\u001b[0;34m)\u001b[0m\u001b[0;34m\u001b[0m\u001b[0;34m\u001b[0m\u001b[0m\n\u001b[0;32m----> 6\u001b[0;31m     \u001b[0mimage\u001b[0m \u001b[0;34m=\u001b[0m \u001b[0mnp\u001b[0m\u001b[0;34m.\u001b[0m\u001b[0marray\u001b[0m\u001b[0;34m(\u001b[0m\u001b[0mImage\u001b[0m\u001b[0;34m.\u001b[0m\u001b[0mfromarray\u001b[0m\u001b[0;34m(\u001b[0m\u001b[0mobj\u001b[0m\u001b[0;34m=\u001b[0m\u001b[0mimage\u001b[0m\u001b[0;34m,\u001b[0m \u001b[0mmode\u001b[0m\u001b[0;34m=\u001b[0m\u001b[0;34m'F'\u001b[0m\u001b[0;34m)\u001b[0m\u001b[0;34m.\u001b[0m\u001b[0mresize\u001b[0m\u001b[0;34m(\u001b[0m\u001b[0msize\u001b[0m\u001b[0;34m=\u001b[0m\u001b[0mtarget_width\u001b[0m\u001b[0;34m,\u001b[0m \u001b[0mresample\u001b[0m\u001b[0;34m=\u001b[0m\u001b[0mImage\u001b[0m\u001b[0;34m.\u001b[0m\u001b[0mBICUBIC\u001b[0m\u001b[0;34m)\u001b[0m\u001b[0;34m)\u001b[0m\u001b[0;34m\u001b[0m\u001b[0;34m\u001b[0m\u001b[0m\n\u001b[0m\u001b[1;32m      7\u001b[0m     \u001b[0;32mreturn\u001b[0m \u001b[0mimage\u001b[0m\u001b[0;34m.\u001b[0m\u001b[0mastype\u001b[0m\u001b[0;34m(\u001b[0m\u001b[0mnp\u001b[0m\u001b[0;34m.\u001b[0m\u001b[0mfloat32\u001b[0m\u001b[0;34m)\u001b[0m \u001b[0;34m/\u001b[0m \u001b[0;36m255\u001b[0m\u001b[0;34m\u001b[0m\u001b[0;34m\u001b[0m\u001b[0m\n",
      "\u001b[0;32m/opt/anaconda3/lib/python3.7/site-packages/PIL/Image.py\u001b[0m in \u001b[0;36mfromarray\u001b[0;34m(obj, mode)\u001b[0m\n\u001b[1;32m   2636\u001b[0m     \u001b[0;34m.\u001b[0m\u001b[0;34m.\u001b[0m \u001b[0mversionadded\u001b[0m\u001b[0;34m:\u001b[0m\u001b[0;34m:\u001b[0m \u001b[0;36m1.1\u001b[0m\u001b[0;36m.6\u001b[0m\u001b[0;34m\u001b[0m\u001b[0;34m\u001b[0m\u001b[0m\n\u001b[1;32m   2637\u001b[0m     \"\"\"\n\u001b[0;32m-> 2638\u001b[0;31m     \u001b[0marr\u001b[0m \u001b[0;34m=\u001b[0m \u001b[0mobj\u001b[0m\u001b[0;34m.\u001b[0m\u001b[0m__array_interface__\u001b[0m\u001b[0;34m\u001b[0m\u001b[0;34m\u001b[0m\u001b[0m\n\u001b[0m\u001b[1;32m   2639\u001b[0m     \u001b[0mshape\u001b[0m \u001b[0;34m=\u001b[0m \u001b[0marr\u001b[0m\u001b[0;34m[\u001b[0m\u001b[0;34m\"shape\"\u001b[0m\u001b[0;34m]\u001b[0m\u001b[0;34m\u001b[0m\u001b[0;34m\u001b[0m\u001b[0m\n\u001b[1;32m   2640\u001b[0m     \u001b[0mndim\u001b[0m \u001b[0;34m=\u001b[0m \u001b[0mlen\u001b[0m\u001b[0;34m(\u001b[0m\u001b[0mshape\u001b[0m\u001b[0;34m)\u001b[0m\u001b[0;34m\u001b[0m\u001b[0;34m\u001b[0m\u001b[0m\n",
      "\u001b[0;32m/opt/anaconda3/lib/python3.7/site-packages/pandas/core/generic.py\u001b[0m in \u001b[0;36m__getattr__\u001b[0;34m(self, name)\u001b[0m\n\u001b[1;32m   5173\u001b[0m             \u001b[0;32mor\u001b[0m \u001b[0mname\u001b[0m \u001b[0;32min\u001b[0m \u001b[0mself\u001b[0m\u001b[0;34m.\u001b[0m\u001b[0m_accessors\u001b[0m\u001b[0;34m\u001b[0m\u001b[0;34m\u001b[0m\u001b[0m\n\u001b[1;32m   5174\u001b[0m         ):\n\u001b[0;32m-> 5175\u001b[0;31m             \u001b[0;32mreturn\u001b[0m \u001b[0mobject\u001b[0m\u001b[0;34m.\u001b[0m\u001b[0m__getattribute__\u001b[0m\u001b[0;34m(\u001b[0m\u001b[0mself\u001b[0m\u001b[0;34m,\u001b[0m \u001b[0mname\u001b[0m\u001b[0;34m)\u001b[0m\u001b[0;34m\u001b[0m\u001b[0;34m\u001b[0m\u001b[0m\n\u001b[0m\u001b[1;32m   5176\u001b[0m         \u001b[0;32melse\u001b[0m\u001b[0;34m:\u001b[0m\u001b[0;34m\u001b[0m\u001b[0;34m\u001b[0m\u001b[0m\n\u001b[1;32m   5177\u001b[0m             \u001b[0;32mif\u001b[0m \u001b[0mself\u001b[0m\u001b[0;34m.\u001b[0m\u001b[0m_info_axis\u001b[0m\u001b[0;34m.\u001b[0m\u001b[0m_can_hold_identifiers_and_holds_name\u001b[0m\u001b[0;34m(\u001b[0m\u001b[0mname\u001b[0m\u001b[0;34m)\u001b[0m\u001b[0;34m:\u001b[0m\u001b[0;34m\u001b[0m\u001b[0;34m\u001b[0m\u001b[0m\n",
      "\u001b[0;31mAttributeError\u001b[0m: 'Series' object has no attribute '__array_interface__'"
     ]
    },
    {
     "name": "stdout",
     "output_type": "stream",
     "text": [
      "Total transfer learning with CNN time = 0.13196897506713867 seconds\n"
     ]
    }
   ],
   "source": [
    "start_time = time.time()\n",
    "sizeOfX = X_sample.shape[1]\n",
    "print(X_sample.shape)\n",
    "%run \"TransferLearning-New.ipynb\"\n",
    "\n",
    "print(\"Total transfer learning with CNN time = %s seconds\" % (time.time() - start_time))"
   ]
  },
  {
   "cell_type": "code",
   "execution_count": null,
   "metadata": {},
   "outputs": [],
   "source": []
  }
 ],
 "metadata": {
  "kernelspec": {
   "display_name": "Python 3",
   "language": "python",
   "name": "python3"
  },
  "language_info": {
   "codemirror_mode": {
    "name": "ipython",
    "version": 3
   },
   "file_extension": ".py",
   "mimetype": "text/x-python",
   "name": "python",
   "nbconvert_exporter": "python",
   "pygments_lexer": "ipython3",
   "version": "3.7.4"
  }
 },
 "nbformat": 4,
 "nbformat_minor": 2
}
