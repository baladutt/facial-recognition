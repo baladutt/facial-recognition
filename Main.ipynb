{
 "cells": [
  {
   "cell_type": "code",
   "execution_count": 19,
   "metadata": {},
   "outputs": [
    {
     "name": "stdout",
     "output_type": "stream",
     "text": [
      "Total File name collection time = 1.3245849609375 seconds\n",
      "Files collected :  13233\n"
     ]
    }
   ],
   "source": [
    "import time\n",
    "start_time = time.time()\n",
    "\n",
    "#Where is the data?\n",
    "if username == \"bdutt\":\n",
    "    baseDir=\"/Users/bdutt/Documents/workspace-whitespace/face/face/data/lfw\"\n",
    "elif username ==\"cgarg\":\n",
    "    baseDir=\"/Users/cgarg/Documents/\"\n",
    "flow = \"main\"\n",
    "debug = False\n",
    "\n",
    "%run \"Load Data.ipynb\"\n",
    "\n",
    "filenames = []\n",
    "labels = []\n",
    "\n",
    "def collectFileNamesAndLabels(filename):\n",
    "    filenames.append(filename)\n",
    "    labels.append(\"Fall\" in filename) #Get the label name from filename\n",
    "        \n",
    "\n",
    "doForEachFile(collectFileNamesAndLabels,baseDir)\n",
    "print(\"Total File name collection time = %s seconds\" % (time.time() - start_time))\n",
    "print (\"Files collected : \",len(filenames))"
   ]
  },
  {
   "cell_type": "code",
   "execution_count": 20,
   "metadata": {},
   "outputs": [
    {
     "name": "stdout",
     "output_type": "stream",
     "text": [
      "Images data collected :  13233\n"
     ]
    }
   ],
   "source": [
    "imagesList = []\n",
    "doForEachFileNames(readImage, filenames, imagesList)\n",
    "print (\"Images data collected : \",len(imagesList))"
   ]
  },
  {
   "cell_type": "code",
   "execution_count": null,
   "metadata": {},
   "outputs": [],
   "source": [
    "clf = OmClassifier()\n",
    "params = {\n",
    "    \"epoch\" : 500,\n",
    "    \"trace\" : 1,\n",
    "    \"rnnVerbose\" : 2\n",
    "}\n",
    "clf.set_params(**params)\n",
    "clf.fit(np.array(filenames).reshape(-1, 1), labels)"
   ]
  }
 ],
 "metadata": {
  "kernelspec": {
   "display_name": "Python 3",
   "language": "python",
   "name": "python3"
  },
  "language_info": {
   "codemirror_mode": {
    "name": "ipython",
    "version": 3
   },
   "file_extension": ".py",
   "mimetype": "text/x-python",
   "name": "python",
   "nbconvert_exporter": "python",
   "pygments_lexer": "ipython3",
   "version": "3.7.4"
  }
 },
 "nbformat": 4,
 "nbformat_minor": 2
}
