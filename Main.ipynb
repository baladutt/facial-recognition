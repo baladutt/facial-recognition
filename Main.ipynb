{
 "cells": [
  {
   "cell_type": "code",
   "execution_count": 2,
   "metadata": {},
   "outputs": [
    {
     "name": "stdout",
     "output_type": "stream",
     "text": [
      "Total File name collection time = 2.124769926071167 seconds\n",
      "Files collected :  13233\n"
     ]
    }
   ],
   "source": [
    "import time\n",
    "import getpass\n",
    "username = getpass.getuser()\n",
    "start_time = time.time()\n",
    "#Where is the data?\n",
    "if username == \"bdutt\":\n",
    "    baseDir=\"/Users/bdutt/Documents/workspace-whitespace/face/face/data/lfw\"\n",
    "elif username ==\"cgarg\":\n",
    "    baseDir=\"/Users/cgarg/Documents/charu/intuit/code/face/data/lfw\"\n",
    "flow = \"main\"\n",
    "debug = False\n",
    "\n",
    "%run \"Load Data.ipynb\"\n",
    "\n",
    "filenames = []\n",
    "labels = []\n",
    "\n",
    "def collectFileNamesAndLabels(filename):\n",
    "    filenames.append(filename)\n",
    "    result = filename.split(\"/\") \n",
    "    labels.append(result[len(result)-2]) #Get the label name from filename\n",
    "    \n",
    "\n",
    "doForEachFile(collectFileNamesAndLabels,baseDir)\n",
    "print(\"Total File name collection time = %s seconds\" % (time.time() - start_time))\n",
    "print (\"Files collected : \",len(filenames))"
   ]
  },
  {
   "cell_type": "code",
   "execution_count": 3,
   "metadata": {},
   "outputs": [
    {
     "name": "stdout",
     "output_type": "stream",
     "text": [
      "Images data collected :  13233\n"
     ]
    }
   ],
   "source": [
    "start_time = time.time()\n",
    "imagesList = []\n",
    "doForEachFileNames(readImage, filenames, imagesList)\n",
    "print (\"Images data collected : \",len(imagesList))\n",
    "print(\"Total data collection time = %s seconds\" % (time.time() - start_time))"
   ]
  },
  {
   "cell_type": "code",
   "execution_count": null,
   "metadata": {},
   "outputs": [],
   "source": [
    "start_time = time.time()\n",
    "\n",
    "import pandas as pd\n",
    "Y = pd.DataFrame(labels)\n",
    "sizeOfYLabel = len(Y)\n",
    "oneDImageList = []\n",
    "for image in imagesList:\n",
    "    oneDImageList.append(image.flatten())\n",
    "X = pd.DataFrame(oneDImageList)\n",
    "print(\"Total dataframe creation time = %s seconds\" % (time.time() - start_time))\n",
    "\n",
    "start_time = time.time()\n",
    "%run \"DNN.ipynb\"\n",
    "\n",
    "print(\"Total DNN time = %s seconds\" % (time.time() - start_time))"
   ]
  },
  {
   "cell_type": "code",
   "execution_count": null,
   "metadata": {},
   "outputs": [],
   "source": []
  }
 ],
 "metadata": {
  "kernelspec": {
   "display_name": "Python 3",
   "language": "python",
   "name": "python3"
  },
  "language_info": {
   "codemirror_mode": {
    "name": "ipython",
    "version": 3
   },
   "file_extension": ".py",
   "mimetype": "text/x-python",
   "name": "python",
   "nbconvert_exporter": "python",
   "pygments_lexer": "ipython3",
   "version": "3.7.4"
  }
 },
 "nbformat": 4,
 "nbformat_minor": 2
}
