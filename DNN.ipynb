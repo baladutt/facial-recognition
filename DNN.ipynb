{
 "cells": [
  {
   "cell_type": "code",
   "execution_count": null,
   "metadata": {},
   "outputs": [],
   "source": [
    "## Import all the necessary libraries\n",
    "\n",
    "import numpy as np\n",
    "import matplotlib.pyplot as plt\n",
    "import pandas as pd\n",
    "from sklearn import preprocessing\n",
    "\n",
    "from sklearn.model_selection import train_test_split\n",
    "\n",
    "%matplotlib inline\n",
    "\n",
    "import warnings\n",
    "warnings.filterwarnings(\"ignore\")"
   ]
  },
  {
   "cell_type": "code",
   "execution_count": null,
   "metadata": {},
   "outputs": [],
   "source": [
    "print(X.shape)\n",
    "print(Y.shape)\n",
    "\n",
    "# scale the X values\n",
    "min_max_scaler = preprocessing.MinMaxScaler()\n",
    "X_scale = min_max_scaler.fit_transform(X)"
   ]
  },
  {
   "cell_type": "code",
   "execution_count": 1,
   "metadata": {},
   "outputs": [
    {
     "name": "stderr",
     "output_type": "stream",
     "text": [
      "ERROR:root:Internal Python error in the inspect module.\n",
      "Below is the traceback from this internal error.\n",
      "\n"
     ]
    },
    {
     "name": "stdout",
     "output_type": "stream",
     "text": [
      "Traceback (most recent call last):\n",
      "  File \"/opt/anaconda3/lib/python3.7/site-packages/IPython/core/interactiveshell.py\", line 3326, in run_code\n",
      "    exec(code_obj, self.user_global_ns, self.user_ns)\n",
      "  File \"<ipython-input-1-a0224e2beda6>\", line 7, in <module>\n",
      "    Y = tf.keras.utils.to_categorical(Y)\n",
      "NameError: name 'Y' is not defined\n",
      "\n",
      "During handling of the above exception, another exception occurred:\n",
      "\n",
      "Traceback (most recent call last):\n",
      "  File \"/opt/anaconda3/lib/python3.7/site-packages/IPython/core/interactiveshell.py\", line 2040, in showtraceback\n",
      "    stb = value._render_traceback_()\n",
      "AttributeError: 'NameError' object has no attribute '_render_traceback_'\n",
      "\n",
      "During handling of the above exception, another exception occurred:\n",
      "\n",
      "Traceback (most recent call last):\n",
      "  File \"/opt/anaconda3/lib/python3.7/site-packages/IPython/core/ultratb.py\", line 1101, in get_records\n",
      "    return _fixed_getinnerframes(etb, number_of_lines_of_context, tb_offset)\n",
      "  File \"/opt/anaconda3/lib/python3.7/site-packages/IPython/core/ultratb.py\", line 319, in wrapped\n",
      "    return f(*args, **kwargs)\n",
      "  File \"/opt/anaconda3/lib/python3.7/site-packages/IPython/core/ultratb.py\", line 353, in _fixed_getinnerframes\n",
      "    records = fix_frame_records_filenames(inspect.getinnerframes(etb, context))\n",
      "  File \"/opt/anaconda3/lib/python3.7/inspect.py\", line 1502, in getinnerframes\n",
      "    frameinfo = (tb.tb_frame,) + getframeinfo(tb, context)\n",
      "  File \"/opt/anaconda3/lib/python3.7/inspect.py\", line 1460, in getframeinfo\n",
      "    filename = getsourcefile(frame) or getfile(frame)\n",
      "  File \"/opt/anaconda3/lib/python3.7/inspect.py\", line 696, in getsourcefile\n",
      "    if getattr(getmodule(object, filename), '__loader__', None) is not None:\n",
      "  File \"/opt/anaconda3/lib/python3.7/inspect.py\", line 733, in getmodule\n",
      "    if ismodule(module) and hasattr(module, '__file__'):\n",
      "  File \"/opt/anaconda3/lib/python3.7/site-packages/tensorflow/__init__.py\", line 50, in __getattr__\n",
      "    module = self._load()\n",
      "  File \"/opt/anaconda3/lib/python3.7/site-packages/tensorflow/__init__.py\", line 44, in _load\n",
      "    module = _importlib.import_module(self.__name__)\n",
      "  File \"/opt/anaconda3/lib/python3.7/importlib/__init__.py\", line 127, in import_module\n",
      "    return _bootstrap._gcd_import(name[level:], package, level)\n",
      "  File \"<frozen importlib._bootstrap>\", line 1006, in _gcd_import\n",
      "  File \"<frozen importlib._bootstrap>\", line 983, in _find_and_load\n",
      "  File \"<frozen importlib._bootstrap>\", line 967, in _find_and_load_unlocked\n",
      "  File \"<frozen importlib._bootstrap>\", line 677, in _load_unlocked\n",
      "  File \"<frozen importlib._bootstrap_external>\", line 728, in exec_module\n",
      "  File \"<frozen importlib._bootstrap>\", line 219, in _call_with_frames_removed\n",
      "  File \"/opt/anaconda3/lib/python3.7/site-packages/tensorflow_core/contrib/__init__.py\", line 47, in <module>\n",
      "    from tensorflow.contrib import distributions\n",
      "  File \"/opt/anaconda3/lib/python3.7/site-packages/tensorflow_core/contrib/distributions/__init__.py\", line 29, in <module>\n",
      "    from tensorflow.contrib.distributions.python.ops import bijectors\n",
      "  File \"/opt/anaconda3/lib/python3.7/site-packages/tensorflow_core/contrib/distributions/__init__.py\", line 44, in <module>\n",
      "    from tensorflow.contrib.distributions.python.ops.estimator import *\n",
      "  File \"/opt/anaconda3/lib/python3.7/site-packages/tensorflow_core/contrib/distributions/python/ops/estimator.py\", line 21, in <module>\n",
      "    from tensorflow.contrib.learn.python.learn.estimators.head import _compute_weighted_loss\n",
      "  File \"/opt/anaconda3/lib/python3.7/site-packages/tensorflow_core/contrib/learn/__init__.py\", line 93, in <module>\n",
      "    from tensorflow.contrib.learn.python.learn import *\n",
      "  File \"/opt/anaconda3/lib/python3.7/site-packages/tensorflow_core/contrib/learn/python/__init__.py\", line 28, in <module>\n",
      "    from tensorflow.contrib.learn.python.learn import *\n",
      "  File \"/opt/anaconda3/lib/python3.7/site-packages/tensorflow_core/contrib/learn/python/learn/__init__.py\", line 30, in <module>\n",
      "    from tensorflow.contrib.learn.python.learn import estimators\n",
      "  File \"/opt/anaconda3/lib/python3.7/site-packages/tensorflow_core/contrib/learn/python/learn/estimators/__init__.py\", line 302, in <module>\n",
      "    from tensorflow.contrib.learn.python.learn.estimators.dnn import DNNClassifier\n",
      "  File \"/opt/anaconda3/lib/python3.7/site-packages/tensorflow_core/contrib/learn/python/learn/estimators/dnn.py\", line 34, in <module>\n",
      "    from tensorflow.contrib.learn.python.learn.estimators import dnn_linear_combined\n",
      "  File \"/opt/anaconda3/lib/python3.7/site-packages/tensorflow_core/contrib/learn/python/learn/estimators/dnn_linear_combined.py\", line 36, in <module>\n",
      "    from tensorflow.contrib.learn.python.learn.estimators import estimator\n",
      "  File \"/opt/anaconda3/lib/python3.7/site-packages/tensorflow_core/contrib/learn/python/learn/estimators/estimator.py\", line 52, in <module>\n",
      "    from tensorflow.contrib.learn.python.learn.learn_io import data_feeder\n",
      "  File \"/opt/anaconda3/lib/python3.7/site-packages/tensorflow_core/contrib/learn/python/learn/learn_io/__init__.py\", line 26, in <module>\n",
      "    from tensorflow.contrib.learn.python.learn.learn_io.dask_io import extract_dask_data\n",
      "  File \"/opt/anaconda3/lib/python3.7/site-packages/tensorflow_core/contrib/learn/python/learn/learn_io/dask_io.py\", line 33, in <module>\n",
      "    import dask.dataframe as dd\n",
      "  File \"/opt/anaconda3/lib/python3.7/site-packages/dask/dataframe/__init__.py\", line 13, in <module>\n",
      "    from .io import (\n",
      "  File \"/opt/anaconda3/lib/python3.7/site-packages/dask/dataframe/io/__init__.py\", line 13, in <module>\n",
      "    from .csv import read_csv, to_csv, read_table, read_fwf\n",
      "  File \"/opt/anaconda3/lib/python3.7/site-packages/dask/dataframe/io/csv.py\", line 21, in <module>\n",
      "    from ...bytes import read_bytes, open_file, open_files\n",
      "  File \"/opt/anaconda3/lib/python3.7/site-packages/dask/bytes/__init__.py\", line 4, in <module>\n",
      "    import fsspec\n",
      "  File \"/opt/anaconda3/lib/python3.7/site-packages/fsspec/__init__.py\", line 8, in <module>\n",
      "    from .mapping import FSMap, get_mapper\n",
      "  File \"/opt/anaconda3/lib/python3.7/site-packages/fsspec/mapping.py\", line 3, in <module>\n",
      "    from .core import split_protocol\n",
      "  File \"/opt/anaconda3/lib/python3.7/site-packages/fsspec/core.py\", line 6, in <module>\n",
      "    from .compression import compr\n",
      "  File \"/opt/anaconda3/lib/python3.7/site-packages/fsspec/compression.py\", line 91, in <module>\n",
      "    class SnappyFile(AbstractBufferedFile):\n",
      "  File \"/opt/anaconda3/lib/python3.7/abc.py\", line 125, in __new__\n",
      "    def __new__(mcls, name, bases, namespace, **kwargs):\n",
      "KeyboardInterrupt\n"
     ]
    },
    {
     "ename": "NameError",
     "evalue": "name 'Y' is not defined",
     "output_type": "error",
     "traceback": [
      "\u001b[0;31m---------------------------------------------------------------------------\u001b[0m"
     ]
    }
   ],
   "source": [
    "import tensorflow as tf\n",
    "from tensorflow.keras import models\n",
    "from tensorflow.keras import layers\n",
    "import random\n",
    "import numpy as np\n",
    "\n",
    "# Y = tf.keras.utils.to_categorical(Y)"
   ]
  },
  {
   "cell_type": "code",
   "execution_count": null,
   "metadata": {},
   "outputs": [],
   "source": [
    "# split the data into training and testing data\n",
    "\n",
    "X_train, X_test, Y_train, Y_test = train_test_split(X_scale, Y, test_size=0.3)\n",
    "print(X_train.shape, X_test.shape, Y_train.shape, Y_test.shape)"
   ]
  },
  {
   "cell_type": "code",
   "execution_count": null,
   "metadata": {},
   "outputs": [],
   "source": [
    "from keras.models import Sequential\n",
    "from keras.layers import Dense\n",
    "\n",
    "\n",
    "# create model\n",
    "\n",
    "dnn_model = Sequential([\n",
    "    Dense(32, activation='relu', input_shape=(187500,)),\n",
    "    Dense(32, activation='relu'),\n",
    "    Dense(1, activation='softmax'),\n",
    "])\n",
    "\n",
    "# compile the model\n",
    "dnn_model.compile(optimizer='sgd',\n",
    "              loss='binary_crossentropy',\n",
    "              metrics=['accuracy'])\n",
    "\n",
    "# train the model\n",
    "hist = dnn_model.fit(X_train, Y_train,\n",
    "          batch_size=32, epochs=100,\n",
    "          validation_split = 0.3)\n",
    "\n",
    "# test or evaluate the model\n",
    "\n",
    "acc = dnn_model.evaluate(X_test, Y_test)[1]"
   ]
  },
  {
   "cell_type": "code",
   "execution_count": null,
   "metadata": {},
   "outputs": [],
   "source": [
    "# Accuracy of DNN\n",
    "\n",
    "print('Accuracy for DNN = %.2f' % acc)"
   ]
  }
 ],
 "metadata": {
  "kernelspec": {
   "display_name": "Python 3",
   "language": "python",
   "name": "python3"
  },
  "language_info": {
   "codemirror_mode": {
    "name": "ipython",
    "version": 3
   },
   "file_extension": ".py",
   "mimetype": "text/x-python",
   "name": "python",
   "nbconvert_exporter": "python",
   "pygments_lexer": "ipython3",
   "version": "3.7.4"
  }
 },
 "nbformat": 4,
 "nbformat_minor": 2
}
